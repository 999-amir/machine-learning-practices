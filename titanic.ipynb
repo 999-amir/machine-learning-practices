{
 "cells": [
  {
   "cell_type": "markdown",
   "id": "5442398e",
   "metadata": {},
   "source": [
    "<div class=\"text-primary\">\n",
    "    <div class=\"text-center\">\n",
    "        <div class=\"h1\">practise 3 - titanic</div>\n",
    "        <div class=\"h5\">maktabkhooneh</div>\n",
    "    </div>\n",
    "    <div class=\"h4\">Name: Amir Mohammad Arghavany</div>\n",
    "    <div class=\"h4\">Email: amir.arghavoon@gmail.com</div>\n",
    "</div>"
   ]
  },
  {
   "cell_type": "markdown",
   "id": "3b25d25d",
   "metadata": {},
   "source": [
    "# import"
   ]
  },
  {
   "cell_type": "code",
   "execution_count": 1,
   "id": "fe5d6d73",
   "metadata": {},
   "outputs": [],
   "source": [
    "# base packages\n",
    "import numpy as np\n",
    "import pandas as pd\n",
    "import seaborn as sns\n",
    "import matplotlib.pyplot as plt\n",
    "# preprocessing packages\n",
    "from sklearn.impute import SimpleImputer\n",
    "from sklearn.preprocessing import LabelEncoder, StandardScaler\n",
    "# learning packages\n",
    "from sklearn.linear_model import LogisticRegression\n",
    "from sklearn.neighbors import KNeighborsClassifier\n",
    "from sklearn.naive_bayes import GaussianNB\n",
    "from sklearn.svm import SVC\n",
    "from sklearn.tree import DecisionTreeClassifier\n",
    "from sklearn.ensemble import RandomForestClassifier\n",
    "from xgboost import XGBClassifier\n",
    "# accuracy packages\n",
    "from sklearn.model_selection import GridSearchCV\n",
    "from sklearn.metrics import classification_report, accuracy_score, recall_score\n",
    "# warnings ignore\n",
    "import warnings\n",
    "warnings.filterwarnings('ignore')"
   ]
  },
  {
   "cell_type": "markdown",
   "id": "ab851e7b",
   "metadata": {},
   "source": [
    "# load dataset"
   ]
  },
  {
   "cell_type": "code",
   "execution_count": 2,
   "id": "ec72acf1",
   "metadata": {},
   "outputs": [],
   "source": [
    "df_train = pd.read_csv('D:\\DRIVER\\LEARNING\\OUT OF UNIVERSITY\\ML\\Quize\\Q3\\{}'.format('train.csv'))\n",
    "df_X_test = pd.read_csv('D:\\DRIVER\\LEARNING\\OUT OF UNIVERSITY\\ML\\Quize\\Q3\\{}'.format('test.csv'))\n",
    "df_Y_test = pd.read_csv('D:\\DRIVER\\LEARNING\\OUT OF UNIVERSITY\\ML\\Quize\\Q3\\sampleSubmission.csv')"
   ]
  },
  {
   "cell_type": "markdown",
   "id": "6d7fdd77",
   "metadata": {},
   "source": [
    "# preprocessing"
   ]
  },
  {
   "cell_type": "code",
   "execution_count": 3,
   "id": "b1575c6f",
   "metadata": {
    "scrolled": true
   },
   "outputs": [
    {
     "name": "stdout",
     "output_type": "stream",
     "text": [
      "******************************************************************************** <<< df_train >>> \n",
      " ======================================== < sample >\n",
      "   PassengerId  Survived  Pclass  \\\n",
      "0            1         0       3   \n",
      "1            2         1       1   \n",
      "2            3         1       3   \n",
      "\n",
      "                                                Name     Sex   Age  SibSp  \\\n",
      "0                            Braund, Mr. Owen Harris    male  22.0      1   \n",
      "1  Cumings, Mrs. John Bradley (Florence Briggs Th...  female  38.0      1   \n",
      "2                             Heikkinen, Miss. Laina  female  26.0      0   \n",
      "\n",
      "   Parch            Ticket     Fare Cabin Embarked  \n",
      "0      0         A/5 21171   7.2500   NaN        S  \n",
      "1      0          PC 17599  71.2833   C85        C  \n",
      "2      0  STON/O2. 3101282   7.9250   NaN        S   \n",
      " ======================================== < nunique >\n",
      "PassengerId    891\n",
      "Survived         2\n",
      "Pclass           3\n",
      "Name           891\n",
      "Sex              2\n",
      "Age             88\n",
      "SibSp            7\n",
      "Parch            7\n",
      "Ticket         681\n",
      "Fare           248\n",
      "Cabin          147\n",
      "Embarked         3\n",
      "dtype: int64 \n",
      " ======================================== < isnull >\n",
      "PassengerId      0\n",
      "Survived         0\n",
      "Pclass           0\n",
      "Name             0\n",
      "Sex              0\n",
      "Age            177\n",
      "SibSp            0\n",
      "Parch            0\n",
      "Ticket           0\n",
      "Fare             0\n",
      "Cabin          687\n",
      "Embarked         2\n",
      "dtype: int64 \n",
      " ======================================== < info >\n",
      "<class 'pandas.core.frame.DataFrame'>\n",
      "RangeIndex: 891 entries, 0 to 890\n",
      "Data columns (total 12 columns):\n",
      " #   Column       Non-Null Count  Dtype  \n",
      "---  ------       --------------  -----  \n",
      " 0   PassengerId  891 non-null    int64  \n",
      " 1   Survived     891 non-null    int64  \n",
      " 2   Pclass       891 non-null    int64  \n",
      " 3   Name         891 non-null    object \n",
      " 4   Sex          891 non-null    object \n",
      " 5   Age          714 non-null    float64\n",
      " 6   SibSp        891 non-null    int64  \n",
      " 7   Parch        891 non-null    int64  \n",
      " 8   Ticket       891 non-null    object \n",
      " 9   Fare         891 non-null    float64\n",
      " 10  Cabin        204 non-null    object \n",
      " 11  Embarked     889 non-null    object \n",
      "dtypes: float64(2), int64(5), object(5)\n",
      "memory usage: 83.7+ KB\n",
      "None\n",
      "******************************************************************************** <<< df_X_test >>> \n",
      " ======================================== < sample >\n",
      "   PassengerId  Pclass                              Name     Sex   Age  SibSp  \\\n",
      "0          892       3                  Kelly, Mr. James    male  34.5      0   \n",
      "1          893       3  Wilkes, Mrs. James (Ellen Needs)  female  47.0      1   \n",
      "2          894       2         Myles, Mr. Thomas Francis    male  62.0      0   \n",
      "\n",
      "   Parch  Ticket    Fare Cabin Embarked  \n",
      "0      0  330911  7.8292   NaN        Q  \n",
      "1      0  363272  7.0000   NaN        S  \n",
      "2      0  240276  9.6875   NaN        Q   \n",
      " ======================================== < nunique >\n",
      "PassengerId    418\n",
      "Pclass           3\n",
      "Name           418\n",
      "Sex              2\n",
      "Age             79\n",
      "SibSp            7\n",
      "Parch            8\n",
      "Ticket         363\n",
      "Fare           169\n",
      "Cabin           76\n",
      "Embarked         3\n",
      "dtype: int64 \n",
      " ======================================== < isnull >\n",
      "PassengerId      0\n",
      "Pclass           0\n",
      "Name             0\n",
      "Sex              0\n",
      "Age             86\n",
      "SibSp            0\n",
      "Parch            0\n",
      "Ticket           0\n",
      "Fare             1\n",
      "Cabin          327\n",
      "Embarked         0\n",
      "dtype: int64 \n",
      " ======================================== < info >\n",
      "<class 'pandas.core.frame.DataFrame'>\n",
      "RangeIndex: 418 entries, 0 to 417\n",
      "Data columns (total 11 columns):\n",
      " #   Column       Non-Null Count  Dtype  \n",
      "---  ------       --------------  -----  \n",
      " 0   PassengerId  418 non-null    int64  \n",
      " 1   Pclass       418 non-null    int64  \n",
      " 2   Name         418 non-null    object \n",
      " 3   Sex          418 non-null    object \n",
      " 4   Age          332 non-null    float64\n",
      " 5   SibSp        418 non-null    int64  \n",
      " 6   Parch        418 non-null    int64  \n",
      " 7   Ticket       418 non-null    object \n",
      " 8   Fare         417 non-null    float64\n",
      " 9   Cabin        91 non-null     object \n",
      " 10  Embarked     418 non-null    object \n",
      "dtypes: float64(2), int64(4), object(5)\n",
      "memory usage: 36.1+ KB\n",
      "None\n",
      "******************************************************************************** <<< df_Y_test >>> \n",
      " ======================================== < sample >\n",
      "   PassengerId  Survived\n",
      "0          892         0\n",
      "1          893         1\n",
      "2          894         0 \n",
      " ======================================== < nunique >\n",
      "PassengerId    418\n",
      "Survived         2\n",
      "dtype: int64 \n",
      " ======================================== < isnull >\n",
      "PassengerId    0\n",
      "Survived       0\n",
      "dtype: int64 \n",
      " ======================================== < info >\n",
      "<class 'pandas.core.frame.DataFrame'>\n",
      "RangeIndex: 418 entries, 0 to 417\n",
      "Data columns (total 2 columns):\n",
      " #   Column       Non-Null Count  Dtype\n",
      "---  ------       --------------  -----\n",
      " 0   PassengerId  418 non-null    int64\n",
      " 1   Survived     418 non-null    int64\n",
      "dtypes: int64(2)\n",
      "memory usage: 6.7 KB\n",
      "None\n"
     ]
    }
   ],
   "source": [
    "# check\n",
    "def check_df(df_dict):\n",
    "    for i in df_dict:\n",
    "        print('*'*80, '<<< {} >>>'.format(i), '\\n', '='*40, '< sample >')\n",
    "        print(df_dict[i].head(3), '\\n', '='*40, '< nunique >')\n",
    "        print(df_dict[i].nunique(), '\\n', '='*40, '< isnull >')\n",
    "        print(df_dict[i].isnull().sum(), '\\n', '='*40, '< info >')\n",
    "        print(df_dict[i].info())\n",
    "\n",
    "df_dict_1 = {'df_train': df_train,\n",
    "             'df_X_test': df_X_test,\n",
    "             'df_Y_test': df_Y_test}\n",
    "check_df(df_dict_1)"
   ]
  },
  {
   "cell_type": "code",
   "execution_count": 4,
   "id": "dd405af6",
   "metadata": {},
   "outputs": [],
   "source": [
    "# drop unusefull informations\n",
    "# Ticket and Name and PassengerId is unique and Cabin has too many null data (687/891)\n",
    "for i in [df_train, df_X_test]:\n",
    "    i.drop(['Cabin', 'Ticket', 'Name', 'PassengerId'], inplace=True, axis=1)\n",
    "df_Y_test.drop('PassengerId', inplace=True, axis=1)"
   ]
  },
  {
   "cell_type": "code",
   "execution_count": 5,
   "id": "7f8c0ec7",
   "metadata": {
    "scrolled": false
   },
   "outputs": [
    {
     "name": "stdout",
     "output_type": "stream",
     "text": [
      "-------------------- <df_train - Sex>\n",
      "before:  ['male' 'female']\n",
      "after:  [1 0]\n",
      "-------------------- <df_train - Embarked>\n",
      "before:  ['S' 'C' 'Q' nan]\n",
      "after:  [2 0 1 3]\n",
      "-------------------- <df_X_test - Sex>\n",
      "before:  ['male' 'female']\n",
      "after:  [1 0]\n",
      "-------------------- <df_X_test - Embarked>\n",
      "before:  ['Q' 'S' 'C']\n",
      "after:  [1 2 0]\n"
     ]
    }
   ],
   "source": [
    "# categorical to numerical\n",
    "LE = LabelEncoder()\n",
    "df_dict = {\n",
    "    'df_train': df_train,\n",
    "    'df_X_test': df_X_test\n",
    "}\n",
    "for i in df_dict:\n",
    "    for j in ['Sex', 'Embarked']:\n",
    "        print('-'*20, '<{} - {}>'.format(i, j))\n",
    "        print('before: ', df_dict[i][j].unique())\n",
    "        df_dict[i][j] = LE.fit_transform(df_dict[i][j])\n",
    "        print('after: ', df_dict[i][j].unique())"
   ]
  },
  {
   "cell_type": "code",
   "execution_count": 6,
   "id": "6d1a984e",
   "metadata": {},
   "outputs": [],
   "source": [
    "# missing value (categorical)\n",
    "imputer = SimpleImputer(missing_values=3, strategy='most_frequent')\n",
    "df_train['Embarked'] = imputer.fit_transform(df_train[['Embarked']])"
   ]
  },
  {
   "cell_type": "code",
   "execution_count": 7,
   "id": "55cf17dc",
   "metadata": {},
   "outputs": [],
   "source": [
    "# missign value (numerical)\n",
    "imputer = SimpleImputer(missing_values=np.nan, strategy='mean')\n",
    "df_train['Age'] = imputer.fit_transform(df_train[['Age']])\n",
    "df_X_test['Age'] = imputer.fit_transform(df_X_test[['Age']])\n",
    "df_X_test['Fare'] = imputer.fit_transform(df_X_test[['Fare']])"
   ]
  },
  {
   "cell_type": "code",
   "execution_count": 8,
   "id": "6e7d6265",
   "metadata": {
    "scrolled": true
   },
   "outputs": [
    {
     "name": "stdout",
     "output_type": "stream",
     "text": [
      "******************************************************************************** <<< df_train >>> \n",
      " ======================================== < sample >\n",
      "   Survived  Pclass  Sex   Age  SibSp  Parch     Fare  Embarked\n",
      "0         0       3    1  22.0      1      0   7.2500         2\n",
      "1         1       1    0  38.0      1      0  71.2833         0\n",
      "2         1       3    0  26.0      0      0   7.9250         2 \n",
      " ======================================== < nunique >\n",
      "Survived      2\n",
      "Pclass        3\n",
      "Sex           2\n",
      "Age          89\n",
      "SibSp         7\n",
      "Parch         7\n",
      "Fare        248\n",
      "Embarked      3\n",
      "dtype: int64 \n",
      " ======================================== < isnull >\n",
      "Survived    0\n",
      "Pclass      0\n",
      "Sex         0\n",
      "Age         0\n",
      "SibSp       0\n",
      "Parch       0\n",
      "Fare        0\n",
      "Embarked    0\n",
      "dtype: int64 \n",
      " ======================================== < info >\n",
      "<class 'pandas.core.frame.DataFrame'>\n",
      "RangeIndex: 891 entries, 0 to 890\n",
      "Data columns (total 8 columns):\n",
      " #   Column    Non-Null Count  Dtype  \n",
      "---  ------    --------------  -----  \n",
      " 0   Survived  891 non-null    int64  \n",
      " 1   Pclass    891 non-null    int64  \n",
      " 2   Sex       891 non-null    int32  \n",
      " 3   Age       891 non-null    float64\n",
      " 4   SibSp     891 non-null    int64  \n",
      " 5   Parch     891 non-null    int64  \n",
      " 6   Fare      891 non-null    float64\n",
      " 7   Embarked  891 non-null    int32  \n",
      "dtypes: float64(2), int32(2), int64(4)\n",
      "memory usage: 48.9 KB\n",
      "None\n",
      "******************************************************************************** <<< df_X_test >>> \n",
      " ======================================== < sample >\n",
      "   Pclass  Sex   Age  SibSp  Parch    Fare  Embarked\n",
      "0       3    1  34.5      0      0  7.8292         1\n",
      "1       3    0  47.0      1      0  7.0000         2\n",
      "2       2    1  62.0      0      0  9.6875         1 \n",
      " ======================================== < nunique >\n",
      "Pclass        3\n",
      "Sex           2\n",
      "Age          80\n",
      "SibSp         7\n",
      "Parch         8\n",
      "Fare        170\n",
      "Embarked      3\n",
      "dtype: int64 \n",
      " ======================================== < isnull >\n",
      "Pclass      0\n",
      "Sex         0\n",
      "Age         0\n",
      "SibSp       0\n",
      "Parch       0\n",
      "Fare        0\n",
      "Embarked    0\n",
      "dtype: int64 \n",
      " ======================================== < info >\n",
      "<class 'pandas.core.frame.DataFrame'>\n",
      "RangeIndex: 418 entries, 0 to 417\n",
      "Data columns (total 7 columns):\n",
      " #   Column    Non-Null Count  Dtype  \n",
      "---  ------    --------------  -----  \n",
      " 0   Pclass    418 non-null    int64  \n",
      " 1   Sex       418 non-null    int32  \n",
      " 2   Age       418 non-null    float64\n",
      " 3   SibSp     418 non-null    int64  \n",
      " 4   Parch     418 non-null    int64  \n",
      " 5   Fare      418 non-null    float64\n",
      " 6   Embarked  418 non-null    int32  \n",
      "dtypes: float64(2), int32(2), int64(3)\n",
      "memory usage: 19.7 KB\n",
      "None\n",
      "******************************************************************************** <<< df_Y_test >>> \n",
      " ======================================== < sample >\n",
      "   Survived\n",
      "0         0\n",
      "1         1\n",
      "2         0 \n",
      " ======================================== < nunique >\n",
      "Survived    2\n",
      "dtype: int64 \n",
      " ======================================== < isnull >\n",
      "Survived    0\n",
      "dtype: int64 \n",
      " ======================================== < info >\n",
      "<class 'pandas.core.frame.DataFrame'>\n",
      "RangeIndex: 418 entries, 0 to 417\n",
      "Data columns (total 1 columns):\n",
      " #   Column    Non-Null Count  Dtype\n",
      "---  ------    --------------  -----\n",
      " 0   Survived  418 non-null    int64\n",
      "dtypes: int64(1)\n",
      "memory usage: 3.4 KB\n",
      "None\n"
     ]
    }
   ],
   "source": [
    "# recheck\n",
    "check_df(df_dict_1)"
   ]
  },
  {
   "cell_type": "markdown",
   "id": "b308d04a",
   "metadata": {},
   "source": [
    "# split data"
   ]
  },
  {
   "cell_type": "code",
   "execution_count": 9,
   "id": "b797cb54",
   "metadata": {},
   "outputs": [],
   "source": [
    "target = 'Survived'\n",
    "X_train, Y_train = df_train.drop(target, axis=1), df_train[target]\n",
    "X_test, Y_test = df_X_test, df_Y_test[target]"
   ]
  },
  {
   "cell_type": "markdown",
   "id": "e5d2c469",
   "metadata": {},
   "source": [
    "# important features"
   ]
  },
  {
   "cell_type": "markdown",
   "id": "9743a8b6",
   "metadata": {},
   "source": [
    "<div class=\"h3 text-success\">using correlation</div>"
   ]
  },
  {
   "cell_type": "code",
   "execution_count": 10,
   "id": "96574371",
   "metadata": {},
   "outputs": [
    {
     "data": {
      "text/plain": [
       "Survived    1.000000\n",
       "Fare        0.257307\n",
       "Parch       0.081629\n",
       "SibSp      -0.035322\n",
       "Age        -0.069809\n",
       "Embarked   -0.167675\n",
       "Pclass     -0.338481\n",
       "Sex        -0.543351\n",
       "Name: Survived, dtype: float64"
      ]
     },
     "execution_count": 10,
     "metadata": {},
     "output_type": "execute_result"
    }
   ],
   "source": [
    "corr = pd.concat([X_train, Y_train], axis=1).corr()\n",
    "corr.sort_values(by=['Survived'], ascending=False).iloc[0].sort_values(ascending=False)"
   ]
  },
  {
   "cell_type": "markdown",
   "id": "f79660f3",
   "metadata": {},
   "source": [
    "<div class=\"h3 text-success\">using random forest</div>"
   ]
  },
  {
   "cell_type": "code",
   "execution_count": 11,
   "id": "b336a4ee",
   "metadata": {},
   "outputs": [
    {
     "name": "stdout",
     "output_type": "stream",
     "text": [
      "{'criterion': 'entropy', 'max_depth': 11, 'n_estimators': 28, 'random_state': 42}\n",
      "0.8328227983177452\n"
     ]
    }
   ],
   "source": [
    "# best parameters for random forest\n",
    "RFC = RandomForestClassifier()\n",
    "param = {\n",
    "    'n_estimators': np.arange(15, 30),\n",
    "    'criterion': ['gini', 'entropy'],\n",
    "    'max_depth': [7, 11, 15],\n",
    "    'random_state': [42]\n",
    "}\n",
    "GSCV = GridSearchCV(estimator=RFC, param_grid=param, scoring='accuracy', cv=5)\n",
    "GSCV.fit(X_train, Y_train)\n",
    "print(GSCV.best_params_)\n",
    "print(GSCV.best_score_)"
   ]
  },
  {
   "cell_type": "code",
   "execution_count": 12,
   "id": "31e0ab4b",
   "metadata": {},
   "outputs": [
    {
     "name": "stdout",
     "output_type": "stream",
     "text": [
      "Pclass -> 0.08949001539802953\n",
      "Sex -> 0.26626314131892076\n",
      "Age -> 0.24220982863446938\n",
      "SibSp -> 0.057646397058568624\n",
      "Parch -> 0.04462694350564357\n",
      "Fare -> 0.2623767464817641\n",
      "Embarked -> 0.03738692760260414\n"
     ]
    }
   ],
   "source": [
    "# using random forest\n",
    "RFR = RandomForestClassifier(n_estimators=28, criterion='entropy', max_depth=11, random_state=42)\n",
    "RFR.fit(X_train, Y_train)\n",
    "feature_imp = RFR.feature_importances_\n",
    "for i in range(len(feature_imp)):\n",
    "    print(X_train.columns[i], '->', feature_imp[i])"
   ]
  },
  {
   "cell_type": "markdown",
   "id": "a2f422e9",
   "metadata": {},
   "source": [
    "<div class=\"h3 text-success\">using visualization</div>"
   ]
  },
  {
   "cell_type": "code",
   "execution_count": 13,
   "id": "02c6e702",
   "metadata": {},
   "outputs": [
    {
     "data": {
      "text/plain": [
       "Pclass        3\n",
       "Sex           2\n",
       "Age          89\n",
       "SibSp         7\n",
       "Parch         7\n",
       "Fare        248\n",
       "Embarked      3\n",
       "dtype: int64"
      ]
     },
     "execution_count": 13,
     "metadata": {},
     "output_type": "execute_result"
    }
   ],
   "source": [
    "X_train.nunique()"
   ]
  },
  {
   "cell_type": "code",
   "execution_count": 14,
   "id": "f22e50c1",
   "metadata": {},
   "outputs": [
    {
     "data": {
      "image/png": "[encoded data removed]",
      "text/plain": [
       "<Figure size 400x300 with 1 Axes>"
      ]
     },
     "metadata": {},
     "output_type": "display_data"
    }
   ],
   "source": [
    "sns.catplot(x='Sex', y='Survived', data=df_train, kind='bar').figure.set_size_inches(4, 3)"
   ]
  },
  {
   "cell_type": "code",
   "execution_count": 15,
   "id": "acb1d8dd",
   "metadata": {},
   "outputs": [
    {
     "data": {
      "image/png": "[encoded data removed]",
      "text/plain": [
       "<Figure size 800x300 with 1 Axes>"
      ]
     },
     "metadata": {},
     "output_type": "display_data"
    }
   ],
   "source": [
    "sns.displot(df_train, x='Age', kind='kde', hue='Survived').figure.set_size_inches(8, 3)"
   ]
  },
  {
   "cell_type": "code",
   "execution_count": 16,
   "id": "6a1ec192",
   "metadata": {},
   "outputs": [
    {
     "data": {
      "image/png": "[encoded data removed]",
      "text/plain": [
       "<Figure size 400x300 with 1 Axes>"
      ]
     },
     "metadata": {},
     "output_type": "display_data"
    }
   ],
   "source": [
    "sns.catplot(x='Pclass', y='Survived', data=df_train, kind='bar').figure.set_size_inches(4, 3)"
   ]
  },
  {
   "cell_type": "code",
   "execution_count": 17,
   "id": "469f3aa0",
   "metadata": {},
   "outputs": [
    {
     "data": {
      "image/png": "[encoded data removed]",
      "text/plain": [
       "<Figure size 400x300 with 1 Axes>"
      ]
     },
     "metadata": {},
     "output_type": "display_data"
    }
   ],
   "source": [
    "sns.catplot(x='SibSp', y='Survived', data=df_train, kind='bar').figure.set_size_inches(4, 3)"
   ]
  },
  {
   "cell_type": "code",
   "execution_count": 18,
   "id": "812a9946",
   "metadata": {},
   "outputs": [
    {
     "data": {
      "image/png": "[encoded data removed]",
      "text/plain": [
       "<Figure size 400x300 with 1 Axes>"
      ]
     },
     "metadata": {},
     "output_type": "display_data"
    }
   ],
   "source": [
    "sns.catplot(x='Parch', y='Survived', data=df_train, kind='bar').figure.set_size_inches(4, 3)"
   ]
  },
  {
   "cell_type": "code",
   "execution_count": 19,
   "id": "93b8162b",
   "metadata": {},
   "outputs": [
    {
     "data": {
      "image/png": "[encoded data removed]",
      "text/plain": [
       "<Figure size 800x300 with 1 Axes>"
      ]
     },
     "metadata": {},
     "output_type": "display_data"
    }
   ],
   "source": [
    "sns.displot(df_train, x='Fare', kind='kde', hue='Survived').figure.set_size_inches(8, 3)"
   ]
  },
  {
   "cell_type": "code",
   "execution_count": 20,
   "id": "484c3c9f",
   "metadata": {},
   "outputs": [
    {
     "data": {
      "image/png": "[encoded data removed]",
      "text/plain": [
       "<Figure size 400x300 with 1 Axes>"
      ]
     },
     "metadata": {},
     "output_type": "display_data"
    }
   ],
   "source": [
    "sns.catplot(x='Embarked', y='Survived', data=df_train, kind='bar').figure.set_size_inches(4, 3)"
   ]
  },
  {
   "cell_type": "markdown",
   "id": "1e3af4ac",
   "metadata": {},
   "source": [
    "<div class=\"text-info h3\">important features (using correlation, random forest, visualization)</div>"
   ]
  },
  {
   "cell_type": "code",
   "execution_count": 21,
   "id": "8a353501",
   "metadata": {},
   "outputs": [
    {
     "data": {
      "text/html": [
       "<div>\n",
       "<style scoped>\n",
       "    .dataframe tbody tr th:only-of-type {\n",
       "        vertical-align: middle;\n",
       "    }\n",
       "\n",
       "    .dataframe tbody tr th {\n",
       "        vertical-align: top;\n",
       "    }\n",
       "\n",
       "    .dataframe thead th {\n",
       "        text-align: right;\n",
       "    }\n",
       "</style>\n",
       "<table border=\"1\" class=\"dataframe\">\n",
       "  <thead>\n",
       "    <tr style=\"text-align: right;\">\n",
       "      <th></th>\n",
       "      <th>features</th>\n",
       "      <th>correlation_vote</th>\n",
       "      <th>random_forest_vote</th>\n",
       "      <th>visualization_vote</th>\n",
       "      <th>RESULT</th>\n",
       "    </tr>\n",
       "  </thead>\n",
       "  <tbody>\n",
       "    <tr>\n",
       "      <th>0</th>\n",
       "      <td>Pclass</td>\n",
       "      <td>1</td>\n",
       "      <td>0</td>\n",
       "      <td>1</td>\n",
       "      <td>1</td>\n",
       "    </tr>\n",
       "    <tr>\n",
       "      <th>1</th>\n",
       "      <td>Sex</td>\n",
       "      <td>1</td>\n",
       "      <td>1</td>\n",
       "      <td>1</td>\n",
       "      <td>1</td>\n",
       "    </tr>\n",
       "    <tr>\n",
       "      <th>2</th>\n",
       "      <td>Age</td>\n",
       "      <td>0</td>\n",
       "      <td>1</td>\n",
       "      <td>1</td>\n",
       "      <td>1</td>\n",
       "    </tr>\n",
       "    <tr>\n",
       "      <th>3</th>\n",
       "      <td>SibSp</td>\n",
       "      <td>0</td>\n",
       "      <td>0</td>\n",
       "      <td>1</td>\n",
       "      <td>0</td>\n",
       "    </tr>\n",
       "    <tr>\n",
       "      <th>4</th>\n",
       "      <td>Parch</td>\n",
       "      <td>0</td>\n",
       "      <td>0</td>\n",
       "      <td>0</td>\n",
       "      <td>0</td>\n",
       "    </tr>\n",
       "    <tr>\n",
       "      <th>5</th>\n",
       "      <td>Fare</td>\n",
       "      <td>1</td>\n",
       "      <td>1</td>\n",
       "      <td>1</td>\n",
       "      <td>1</td>\n",
       "    </tr>\n",
       "    <tr>\n",
       "      <th>6</th>\n",
       "      <td>Embarked</td>\n",
       "      <td>1</td>\n",
       "      <td>0</td>\n",
       "      <td>1</td>\n",
       "      <td>1</td>\n",
       "    </tr>\n",
       "  </tbody>\n",
       "</table>\n",
       "</div>"
      ],
      "text/plain": [
       "   features  correlation_vote  random_forest_vote  visualization_vote  RESULT\n",
       "0    Pclass                 1                   0                   1       1\n",
       "1       Sex                 1                   1                   1       1\n",
       "2       Age                 0                   1                   1       1\n",
       "3     SibSp                 0                   0                   1       0\n",
       "4     Parch                 0                   0                   0       0\n",
       "5      Fare                 1                   1                   1       1\n",
       "6  Embarked                 1                   0                   1       1"
      ]
     },
     "execution_count": 21,
     "metadata": {},
     "output_type": "execute_result"
    }
   ],
   "source": [
    "features_vote = {\n",
    "    'features': ['Pclass', 'Sex', 'Age', 'SibSp', 'Parch', 'Fare', 'Embarked'],\n",
    "    'correlation_vote': [1, 1, 0, 0, 0, 1, 1],\n",
    "    'random_forest_vote': [0, 1, 1, 0, 0, 1, 0],\n",
    "    'visualization_vote': [1, 1, 1, 1, 0, 1, 1],\n",
    "    'RESULT': [1, 1, 1, 0, 0, 1, 1]\n",
    "}\n",
    "pd.DataFrame(features_vote)"
   ]
  },
  {
   "cell_type": "code",
   "execution_count": 22,
   "id": "9cdbe031",
   "metadata": {},
   "outputs": [],
   "source": [
    "important_features = ['Pclass', 'Sex', 'Age', 'Fare', 'Embarked']\n",
    "X_train = X_train[important_features]\n",
    "X_test = X_test[important_features]"
   ]
  },
  {
   "cell_type": "markdown",
   "id": "880aba78",
   "metadata": {},
   "source": [
    "# scaling"
   ]
  },
  {
   "cell_type": "code",
   "execution_count": 23,
   "id": "51e3d960",
   "metadata": {},
   "outputs": [],
   "source": [
    "SS = StandardScaler()\n",
    "X_train = pd.DataFrame(SS.fit_transform(X_train), columns=important_features)\n",
    "X_test = pd.DataFrame(SS.transform(X_test), columns=important_features)"
   ]
  },
  {
   "cell_type": "markdown",
   "id": "48fd9771",
   "metadata": {},
   "source": [
    "# machine learning"
   ]
  },
  {
   "cell_type": "markdown",
   "id": "5252c438",
   "metadata": {},
   "source": [
    "<div class=\"h2 text-success text-center\">Logistic Regression</div>"
   ]
  },
  {
   "cell_type": "code",
   "execution_count": 24,
   "id": "455c587d",
   "metadata": {},
   "outputs": [
    {
     "name": "stdout",
     "output_type": "stream",
     "text": [
      "precision score: 90.74 %\n",
      "----------------------------------------------------------------- \n",
      "               precision    recall  f1-score   support\n",
      "\n",
      "           0       0.94      0.98      0.96       256\n",
      "           1       0.97      0.91      0.94       162\n",
      "\n",
      "    accuracy                           0.95       418\n",
      "   macro avg       0.96      0.94      0.95       418\n",
      "weighted avg       0.95      0.95      0.95       418\n",
      "\n"
     ]
    }
   ],
   "source": [
    "LR = LogisticRegression()\n",
    "LR.fit(X_train, Y_train)\n",
    "LR_pred = LR.predict(X_test)\n",
    "# False Negative (FN) is the most important score -> recall\n",
    "print('recall score:', np.round(recall_score(LR_pred, Y_test)*100, 2), '%')\n",
    "print('-'*65, '\\n', classification_report(LR_pred, Y_test))"
   ]
  },
  {
   "cell_type": "markdown",
   "id": "560e3af9",
   "metadata": {},
   "source": [
    "<div class=\"h2 text-success text-center\">KNN</div>"
   ]
  },
  {
   "cell_type": "code",
   "execution_count": 25,
   "id": "66c8b8a6",
   "metadata": {},
   "outputs": [
    {
     "name": "stdout",
     "output_type": "stream",
     "text": [
      "{'n_neighbors': 36}\n",
      "0.8092021844203128\n"
     ]
    }
   ],
   "source": [
    "# hyper parameters\n",
    "KNN = KNeighborsClassifier()\n",
    "param = {\n",
    "    'n_neighbors': np.arange(1, 40),\n",
    "}\n",
    "GSCV = GridSearchCV(estimator=KNN, param_grid=param, scoring='accuracy', cv=5)\n",
    "GSCV.fit(X_train, Y_train)\n",
    "print(GSCV.best_params_)\n",
    "print(GSCV.best_score_)"
   ]
  },
  {
   "cell_type": "code",
   "execution_count": 26,
   "id": "ef17769e",
   "metadata": {},
   "outputs": [
    {
     "name": "stdout",
     "output_type": "stream",
     "text": [
      "recall score: 93.33 %\n",
      "----------------------------------------------------------------- \n",
      "               precision    recall  f1-score   support\n",
      "\n",
      "           0       0.97      0.87      0.91       298\n",
      "           1       0.74      0.93      0.82       120\n",
      "\n",
      "    accuracy                           0.89       418\n",
      "   macro avg       0.85      0.90      0.87       418\n",
      "weighted avg       0.90      0.89      0.89       418\n",
      "\n"
     ]
    }
   ],
   "source": [
    "KNN = KNeighborsClassifier(n_neighbors=36)\n",
    "KNN.fit(X_train, Y_train)\n",
    "KNN_pred = KNN.predict(X_test)\n",
    "print('recall score:', np.round(recall_score(KNN_pred, Y_test)*100, 2), '%')\n",
    "print('-'*65, '\\n', classification_report(KNN_pred, Y_test))"
   ]
  },
  {
   "cell_type": "markdown",
   "id": "96b8ac7d",
   "metadata": {},
   "source": [
    "<div class=\"h2 text-success text-center\">Gaussian Naive Bayse</div>"
   ]
  },
  {
   "cell_type": "code",
   "execution_count": 27,
   "id": "3cd19115",
   "metadata": {},
   "outputs": [
    {
     "name": "stdout",
     "output_type": "stream",
     "text": [
      "recall score: 79.29 %\n",
      "----------------------------------------------------------------- \n",
      "               precision    recall  f1-score   support\n",
      "\n",
      "           0       0.87      0.93      0.90       249\n",
      "           1       0.88      0.79      0.83       169\n",
      "\n",
      "    accuracy                           0.87       418\n",
      "   macro avg       0.88      0.86      0.87       418\n",
      "weighted avg       0.87      0.87      0.87       418\n",
      "\n"
     ]
    }
   ],
   "source": [
    "GNB = GaussianNB()\n",
    "GNB.fit(X_train, Y_train)\n",
    "GNB_pred = GNB.predict(X_test)\n",
    "print('recall score:', np.round(recall_score(GNB_pred, Y_test)*100, 2), '%')\n",
    "print('-'*65, '\\n', classification_report(GNB_pred, Y_test))"
   ]
  },
  {
   "cell_type": "markdown",
   "id": "afc7adea",
   "metadata": {},
   "source": [
    "<div class=\"h2 text-success text-center\">SVM</div>"
   ]
  },
  {
   "cell_type": "code",
   "execution_count": 28,
   "id": "71470c0d",
   "metadata": {},
   "outputs": [
    {
     "name": "stdout",
     "output_type": "stream",
     "text": [
      "{'C': 1.3333333333333333, 'gamma': 0.16666666666666666, 'kernel': 'rbf'}\n",
      "0.8249199673592369\n"
     ]
    }
   ],
   "source": [
    "SVM_C = SVC()\n",
    "param = {\n",
    "    'kernel': ['rbf'],\n",
    "    'C': np.linspace(1, 4, 10),\n",
    "    'gamma': np.linspace(0, 0.5, 10),\n",
    "}\n",
    "GSCV = GridSearchCV(estimator=SVM_C, param_grid=param, scoring='accuracy', cv=5)\n",
    "GSCV.fit(X_train, Y_train)\n",
    "print(GSCV.best_params_)\n",
    "print(GSCV.best_score_)"
   ]
  },
  {
   "cell_type": "code",
   "execution_count": 29,
   "id": "7a55e50f",
   "metadata": {},
   "outputs": [
    {
     "name": "stdout",
     "output_type": "stream",
     "text": [
      "recall score: 98.23 %\n",
      "----------------------------------------------------------------- \n",
      "               precision    recall  f1-score   support\n",
      "\n",
      "           0       0.99      0.87      0.92       305\n",
      "           1       0.73      0.98      0.84       113\n",
      "\n",
      "    accuracy                           0.90       418\n",
      "   macro avg       0.86      0.92      0.88       418\n",
      "weighted avg       0.92      0.90      0.90       418\n",
      "\n"
     ]
    }
   ],
   "source": [
    "SVM_C = SVC(kernel='rbf', C=1.333, gamma=0.1667)\n",
    "SVM_C.fit(X_train, Y_train)\n",
    "SVM_C_pred = SVM_C.predict(X_test)\n",
    "print('recall score:', np.round(recall_score(SVM_C_pred, Y_test)*100, 2), '%')\n",
    "print('-'*65, '\\n', classification_report(SVM_C_pred, Y_test))"
   ]
  },
  {
   "cell_type": "markdown",
   "id": "5e8793d8",
   "metadata": {},
   "source": [
    "<div class=\"h2 text-success text-center\">Decision Tree</div>"
   ]
  },
  {
   "cell_type": "code",
   "execution_count": 30,
   "id": "c7bbeaa6",
   "metadata": {},
   "outputs": [
    {
     "name": "stdout",
     "output_type": "stream",
     "text": [
      "recall score: 71.81 %\n",
      "----------------------------------------------------------------- \n",
      "               precision    recall  f1-score   support\n",
      "\n",
      "           0       0.84      0.83      0.84       269\n",
      "           1       0.70      0.72      0.71       149\n",
      "\n",
      "    accuracy                           0.79       418\n",
      "   macro avg       0.77      0.78      0.77       418\n",
      "weighted avg       0.79      0.79      0.79       418\n",
      "\n"
     ]
    }
   ],
   "source": [
    "DTC = DecisionTreeClassifier(criterion='entropy', random_state=42)\n",
    "DTC.fit(X_train, Y_train)\n",
    "DTC_pred = DTC.predict(X_test)\n",
    "print('recall score:', np.round(recall_score(DTC_pred, Y_test)*100, 2), '%')\n",
    "print('-'*65, '\\n', classification_report(DTC_pred, Y_test))"
   ]
  },
  {
   "cell_type": "markdown",
   "id": "cb14c311",
   "metadata": {},
   "source": [
    "<div class=\"h2 text-success text-center\">Random Forest</div>"
   ]
  },
  {
   "cell_type": "code",
   "execution_count": 31,
   "id": "e51823bd",
   "metadata": {},
   "outputs": [
    {
     "name": "stdout",
     "output_type": "stream",
     "text": [
      "{'criterion': 'entropy', 'max_depth': 11, 'n_estimators': 24, 'random_state': 42}\n",
      "0.8361433682756889\n"
     ]
    }
   ],
   "source": [
    "RFC = RandomForestClassifier()\n",
    "param = {\n",
    "    'n_estimators': np.arange(15, 30),\n",
    "    'criterion': ['gini', 'entropy'],\n",
    "    'max_depth': [7, 11, 15],\n",
    "    'random_state': [42]\n",
    "}\n",
    "GSCV = GridSearchCV(estimator=RFC, param_grid=param, scoring='accuracy', cv=5)\n",
    "GSCV.fit(X_train, Y_train)\n",
    "print(GSCV.best_params_)\n",
    "print(GSCV.best_score_)"
   ]
  },
  {
   "cell_type": "code",
   "execution_count": 35,
   "id": "dd9cb753",
   "metadata": {},
   "outputs": [
    {
     "name": "stdout",
     "output_type": "stream",
     "text": [
      "recall score: 82.09 %\n",
      "----------------------------------------------------------------- \n",
      "               precision    recall  f1-score   support\n",
      "\n",
      "           0       0.91      0.85      0.88       284\n",
      "           1       0.72      0.82      0.77       134\n",
      "\n",
      "    accuracy                           0.84       418\n",
      "   macro avg       0.82      0.84      0.82       418\n",
      "weighted avg       0.85      0.84      0.84       418\n",
      "\n"
     ]
    }
   ],
   "source": [
    "RFR = RandomForestClassifier(n_estimators=24, criterion='entropy', max_depth=11, random_state=42)\n",
    "RFR.fit(X_train, Y_train)\n",
    "RFR_pred = RFR.predict(X_test)\n",
    "print('recall score:', np.round(recall_score(RFR_pred, Y_test)*100, 2), '%')\n",
    "print('-'*65, '\\n', classification_report(RFR_pred, Y_test))"
   ]
  },
  {
   "cell_type": "markdown",
   "id": "08e4030a",
   "metadata": {},
   "source": [
    "<div class=\"h2 text-success text-center\">XGBoost</div>"
   ]
  },
  {
   "cell_type": "code",
   "execution_count": 52,
   "id": "eef66020",
   "metadata": {},
   "outputs": [
    {
     "name": "stdout",
     "output_type": "stream",
     "text": [
      "{'colsample_bytree': 0.6, 'eta': 0.1, 'gamma': 0.3, 'max_depth': 7, 'reg_alpha': 0.5, 'reg_lambda': 0, 'subsample': 0.7}\n",
      "0.842910049588852\n"
     ]
    }
   ],
   "source": [
    "XGB = XGBClassifier()\n",
    "param = {\n",
    "    'eta': [0.1],\n",
    "    'gamma': [0.3],\n",
    "    'reg_lambda': [0],\n",
    "    'reg_alpha': [0.5],\n",
    "    'max_depth': np.arange(1, 10, 1),\n",
    "    'subsample': [0.7],\n",
    "    'colsample_bytree': [0.6],\n",
    "}\n",
    "GSCV = GridSearchCV(estimator=XGB, param_grid=param, scoring='accuracy', cv=5)\n",
    "GSCV.fit(X_train, Y_train)\n",
    "print(GSCV.best_params_)\n",
    "print(GSCV.best_score_)"
   ]
  },
  {
   "cell_type": "code",
   "execution_count": 56,
   "id": "15e51245",
   "metadata": {},
   "outputs": [
    {
     "name": "stdout",
     "output_type": "stream",
     "text": [
      "recall score: 83.7 %\n",
      "----------------------------------------------------------------- \n",
      "               precision    recall  f1-score   support\n",
      "\n",
      "           0       0.92      0.86      0.89       283\n",
      "           1       0.74      0.84      0.79       135\n",
      "\n",
      "    accuracy                           0.85       418\n",
      "   macro avg       0.83      0.85      0.84       418\n",
      "weighted avg       0.86      0.85      0.86       418\n",
      "\n"
     ]
    }
   ],
   "source": [
    "XGB = XGBClassifier(colsample_bytree=0.6, eta=0.1,  gamma=0.3, max_depth=7, reg_alpha=0.5, reg_lambda=0, subsample=0.7)\n",
    "XGB.fit(X_train, Y_train)\n",
    "XGB_pred = XGB.predict(X_test)\n",
    "print('recall score:', np.round(recall_score(XGB_pred, Y_test)*100, 2), '%')\n",
    "print('-'*65, '\\n', classification_report(XGB_pred, Y_test))"
   ]
  },
  {
   "cell_type": "code",
   "execution_count": 82,
   "id": "d8c161f0",
   "metadata": {},
   "outputs": [
    {
     "data": {
      "text/html": [
       "<div>\n",
       "<style scoped>\n",
       "    .dataframe tbody tr th:only-of-type {\n",
       "        vertical-align: middle;\n",
       "    }\n",
       "\n",
       "    .dataframe tbody tr th {\n",
       "        vertical-align: top;\n",
       "    }\n",
       "\n",
       "    .dataframe thead th {\n",
       "        text-align: right;\n",
       "    }\n",
       "</style>\n",
       "<table border=\"1\" class=\"dataframe\">\n",
       "  <thead>\n",
       "    <tr style=\"text-align: right;\">\n",
       "      <th></th>\n",
       "      <th>algorithm</th>\n",
       "      <th>recall_score_(%)</th>\n",
       "    </tr>\n",
       "  </thead>\n",
       "  <tbody>\n",
       "    <tr>\n",
       "      <th>3</th>\n",
       "      <td>SVM</td>\n",
       "      <td>98.23</td>\n",
       "    </tr>\n",
       "    <tr>\n",
       "      <th>1</th>\n",
       "      <td>KNN</td>\n",
       "      <td>93.33</td>\n",
       "    </tr>\n",
       "    <tr>\n",
       "      <th>0</th>\n",
       "      <td>Logistic Regression</td>\n",
       "      <td>90.74</td>\n",
       "    </tr>\n",
       "    <tr>\n",
       "      <th>6</th>\n",
       "      <td>XGBoost</td>\n",
       "      <td>83.70</td>\n",
       "    </tr>\n",
       "    <tr>\n",
       "      <th>5</th>\n",
       "      <td>Random Forest</td>\n",
       "      <td>82.09</td>\n",
       "    </tr>\n",
       "    <tr>\n",
       "      <th>2</th>\n",
       "      <td>Naive Bayes</td>\n",
       "      <td>79.29</td>\n",
       "    </tr>\n",
       "    <tr>\n",
       "      <th>4</th>\n",
       "      <td>Decision Tree</td>\n",
       "      <td>71.81</td>\n",
       "    </tr>\n",
       "  </tbody>\n",
       "</table>\n",
       "</div>"
      ],
      "text/plain": [
       "             algorithm  recall_score_(%)\n",
       "3                  SVM             98.23\n",
       "1                  KNN             93.33\n",
       "0  Logistic Regression             90.74\n",
       "6              XGBoost             83.70\n",
       "5        Random Forest             82.09\n",
       "2          Naive Bayes             79.29\n",
       "4        Decision Tree             71.81"
      ]
     },
     "execution_count": 82,
     "metadata": {},
     "output_type": "execute_result"
    }
   ],
   "source": [
    "learning_score = {\n",
    "    'algorithm': ['Logistic Regression', 'KNN', 'Naive Bayes', 'SVM', 'Decision Tree', 'Random Forest', 'XGBoost'],\n",
    "    'recall_score_(%)': [90.74, 93.33, 79.29, 98.23, 71.81, 82.09, 83.7]\n",
    "}\n",
    "pd.DataFrame(learning_score).sort_values('recall_score_(%)', ascending=False)"
   ]
  },
  {
   "cell_type": "markdown",
   "id": "cb3ac249",
   "metadata": {},
   "source": [
    "# example"
   ]
  },
  {
   "cell_type": "code",
   "execution_count": 85,
   "id": "93f7cfc6",
   "metadata": {},
   "outputs": [
    {
     "name": "stdout",
     "output_type": "stream",
     "text": [
      "Dead\n"
     ]
    }
   ],
   "source": [
    "my_data = [3, 1, 23, 25, 0]   # [Pclass, Sex, Age, Fare, Embarked]\n",
    "if SVM_C.predict(SS.transform([my_data]))[0] == 1:\n",
    "    print('Survived')\n",
    "else:\n",
    "    print('Dead')"
   ]
  }
 ],
 "metadata": {
  "kernelspec": {
   "display_name": "Python 3 (ipykernel)",
   "language": "python",
   "name": "python3"
  },
  "language_info": {
   "codemirror_mode": {
    "name": "ipython",
    "version": 3
   },
   "file_extension": ".py",
   "mimetype": "text/x-python",
   "name": "python",
   "nbconvert_exporter": "python",
   "pygments_lexer": "ipython3",
   "version": "3.11.5"
  }
 },
 "nbformat": 4,
 "nbformat_minor": 5
}
